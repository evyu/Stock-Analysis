{
 "cells": [
  {
   "cell_type": "code",
   "execution_count": 1,
   "metadata": {},
   "outputs": [],
   "source": [
    "from bs4 import BeautifulSoup\n",
    "import requests\n",
    "import csv, random, time"
   ]
  },
  {
   "cell_type": "code",
   "execution_count": 2,
   "metadata": {},
   "outputs": [],
   "source": [
    "headers = {\n",
    "    'authority': 'scrapeme.live',\n",
    "    'dnt': '1',\n",
    "    'upgrade-insecure-requests': '1',\n",
    "    'user-agent': 'Mozilla/5.0 (Macintosh; Intel Mac OS X 10_15_4) AppleWebKit/537.36 (KHTML, like Gecko) Chrome/83.0.4103.61 Safari/537.36',\n",
    "    'accept': 'text/html,application/xhtml+xml,application/xml;q=0.9,image/webp,image/apng,*/*;q=0.8,application/signed-exchange;v=b3;q=0.9',\n",
    "    'sec-fetch-site': 'none',\n",
    "    'sec-fetch-mode': 'navigate',\n",
    "    'sec-fetch-user': '?1',\n",
    "    'sec-fetch-dest': 'document',\n",
    "    'accept-language': 'en-GB,en-US;q=0.9,en;q=0.8',\n",
    "}"
   ]
  },
  {
   "cell_type": "code",
   "execution_count": 3,
   "metadata": {},
   "outputs": [],
   "source": [
    "URL = 'https://www.tradingview.com/markets/stocks-usa/market-movers-active/'\n",
    "page = requests.get(URL, headers=headers)"
   ]
  },
  {
   "cell_type": "code",
   "execution_count": 4,
   "metadata": {},
   "outputs": [],
   "source": [
    "soup = BeautifulSoup(page.content, 'html.parser')"
   ]
  },
  {
   "cell_type": "code",
   "execution_count": 5,
   "metadata": {},
   "outputs": [],
   "source": [
    "results = soup.find_all(\"tr\")   "
   ]
  },
  {
   "cell_type": "code",
   "execution_count": 6,
   "metadata": {},
   "outputs": [],
   "source": [
    "count = 0\n",
    "store_ticker = []\n",
    "\n",
    "# pull tickers for top 100 active stocks\n",
    "\n",
    "for item in results[1:]:\n",
    "    text = item.text\n",
    "    text = text.split(\"\\n\")\n",
    "    store_ticker.append(str(text[5]))\n",
    "    count += 1"
   ]
  },
  {
   "cell_type": "code",
   "execution_count": 7,
   "metadata": {},
   "outputs": [],
   "source": [
    "import yfinance as yf\n",
    "import pygsheets\n",
    "import pandas as pd\n",
    "from datetime import datetime\n",
    "\n",
    "#authorization\n",
    "gc = pygsheets.authorize(service_file='daily_stocksv2.json')\n",
    "\n",
    "# open google spreadsheet\n",
    "sh = gc.open('daily_stocks')\n",
    "\n",
    "temp = sh.worksheet_by_title('Template') \n",
    "\n",
    "# should check if a worksheet for today has already been created or not \n",
    "try:\n",
    "    wks = sh.worksheet_by_title(datetime.now().strftime(\"%m/%d/%Y\"))\n",
    "except pygsheets.WorksheetNotFound:\n",
    "    sh.add_worksheet(datetime.now().strftime(\"%m/%d/%Y\"), src_worksheet=temp)\n",
    "finally:\n",
    "    wks = sh.worksheet_by_title(datetime.now().strftime(\"%m/%d/%Y\"))\n",
    "    \n",
    "i = 2\n",
    "\n",
    "for s in store_ticker:\n",
    "    stk = yf.Ticker(s) \n",
    "    stk_hist = stk.history(period = '1d', inteval = '5m') # stk_hist is a dataframe columns: symbol,open,high,low,close,volume,dividends,stock splits\n",
    "    stk_hist.insert(loc=0, column='Symbol', value=s) # add in column for ticker\n",
    "    stk_hist.drop(stk_hist.columns[[-1,-2]], axis=1, inplace=True) # remove dividend and stock splits columns\n",
    "\n",
    "    wks.set_dataframe(stk_hist,(i,1), copy_head=False)\n",
    "    i += 1\n",
    "    \n",
    "# google sheets link: https://docs.google.com/spreadsheets/d/1HN3uNLbiI4MjgYqAcct3Vd4VbcxVQviDnbTSjf016lQ/edit#gid=0"
   ]
  }
 ],
 "metadata": {
  "kernelspec": {
   "display_name": "Python 3",
   "language": "python",
   "name": "python3"
  },
  "language_info": {
   "codemirror_mode": {
    "name": "ipython",
    "version": 3
   },
   "file_extension": ".py",
   "mimetype": "text/x-python",
   "name": "python",
   "nbconvert_exporter": "python",
   "pygments_lexer": "ipython3",
   "version": "3.7.0"
  }
 },
 "nbformat": 4,
 "nbformat_minor": 4
}
