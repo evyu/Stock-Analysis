{
 "cells": [
  {
   "cell_type": "code",
   "execution_count": 1,
   "metadata": {},
   "outputs": [],
   "source": [
    "from bs4 import BeautifulSoup\n",
    "import requests\n",
    "import csv, random, time"
   ]
  },
  {
   "cell_type": "code",
   "execution_count": 8,
   "metadata": {},
   "outputs": [],
   "source": [
    "headers = {\n",
    "    'authority': 'scrapeme.live',\n",
    "    'dnt': '1',\n",
    "    'upgrade-insecure-requests': '1',\n",
    "    'user-agent': 'Mozilla/5.0 (Macintosh; Intel Mac OS X 10_15_4) AppleWebKit/537.36 (KHTML, like Gecko) Chrome/83.0.4103.61 Safari/537.36',\n",
    "    'accept': 'text/html,application/xhtml+xml,application/xml;q=0.9,image/webp,image/apng,*/*;q=0.8,application/signed-exchange;v=b3;q=0.9',\n",
    "    'sec-fetch-site': 'none',\n",
    "    'sec-fetch-mode': 'navigate',\n",
    "    'sec-fetch-user': '?1',\n",
    "    'sec-fetch-dest': 'document',\n",
    "    'accept-language': 'en-GB,en-US;q=0.9,en;q=0.8',\n",
    "}"
   ]
  },
  {
   "cell_type": "code",
   "execution_count": 9,
   "metadata": {},
   "outputs": [],
   "source": [
    "URL = 'https://www.tradingview.com/markets/stocks-usa/market-movers-active/'\n",
    "page = requests.get(URL, headers=headers)"
   ]
  },
  {
   "cell_type": "code",
   "execution_count": 10,
   "metadata": {},
   "outputs": [],
   "source": [
    "soup = BeautifulSoup(page.content, 'html.parser')"
   ]
  },
  {
   "cell_type": "code",
   "execution_count": 48,
   "metadata": {},
   "outputs": [],
   "source": [
    "results = soup.find_all(\"tr\")"
   ]
  },
  {
   "cell_type": "code",
   "execution_count": 74,
   "metadata": {},
   "outputs": [
    {
     "name": "stdout",
     "output_type": "stream",
     "text": [
      "100\n"
     ]
    }
   ],
   "source": [
    "count = 0\n",
    "store_ticker = []\n",
    "\n",
    "for item in results[1:]:\n",
    "    text = item.text\n",
    "    text = text.split(\"\\n\")\n",
    "    store_ticker.append(str(text[5]))\n",
    "    count += 1\n",
    "\n",
    "print(count)"
   ]
  },
  {
   "cell_type": "code",
   "execution_count": 75,
   "metadata": {},
   "outputs": [
    {
     "data": {
      "text/plain": [
       "['NIO',\n",
       " 'HTBX',\n",
       " 'BNGO',\n",
       " 'GLBS',\n",
       " 'MRNA',\n",
       " 'TOPS',\n",
       " 'VRNA',\n",
       " 'TNXP',\n",
       " 'MVIS',\n",
       " 'F',\n",
       " 'NCLH',\n",
       " 'IBIO',\n",
       " 'SQQQ',\n",
       " 'ONTX',\n",
       " 'AAL',\n",
       " 'BAC',\n",
       " 'SPY',\n",
       " 'GE',\n",
       " 'BOXL',\n",
       " 'SPCE',\n",
       " 'HMHC',\n",
       " 'NOK',\n",
       " 'ABEV',\n",
       " 'XLF',\n",
       " 'NOVN',\n",
       " 'EEM',\n",
       " 'WFC',\n",
       " 'RMBL',\n",
       " 'INO',\n",
       " 'UAL',\n",
       " 'QQQ',\n",
       " 'AMD',\n",
       " 'SLV',\n",
       " 'ZOM',\n",
       " 'DNR',\n",
       " 'VBIV',\n",
       " 'MSFT',\n",
       " 'ERIC',\n",
       " 'OPK',\n",
       " 'TQQQ',\n",
       " 'IAU',\n",
       " 'CCL',\n",
       " 'GDX',\n",
       " 'VXRT',\n",
       " 'TZA',\n",
       " 'UAVS',\n",
       " 'NBRV',\n",
       " 'DVAX',\n",
       " 'BA',\n",
       " 'VALE',\n",
       " 'NFLX',\n",
       " 'MRO',\n",
       " 'AZN',\n",
       " 'SPXS',\n",
       " 'T',\n",
       " 'ATNM',\n",
       " 'XLU',\n",
       " 'UVXY',\n",
       " 'SIRI',\n",
       " 'AAPL',\n",
       " 'APDN',\n",
       " 'HYG',\n",
       " 'CTRM',\n",
       " 'PFE',\n",
       " 'IDEX',\n",
       " 'CBL',\n",
       " 'CLNY',\n",
       " 'OXY',\n",
       " 'DAL',\n",
       " 'IWM',\n",
       " 'INFY',\n",
       " 'TTOO',\n",
       " 'SPXU',\n",
       " 'GNUS',\n",
       " 'CSCO',\n",
       " 'PBR',\n",
       " 'C',\n",
       " 'ALNA',\n",
       " 'VCNX',\n",
       " 'SALM',\n",
       " 'TNA',\n",
       " 'EFA',\n",
       " 'PCG',\n",
       " 'NKLA',\n",
       " 'VXX',\n",
       " 'COMM',\n",
       " 'MGM',\n",
       " 'CHEK',\n",
       " 'BABA',\n",
       " 'FRSX',\n",
       " 'TWTR',\n",
       " 'ERI',\n",
       " 'FB',\n",
       " 'XOM',\n",
       " 'XLE',\n",
       " 'RF',\n",
       " 'SNAP',\n",
       " 'SPAQ',\n",
       " 'EWZ',\n",
       " 'NLY']"
      ]
     },
     "execution_count": 75,
     "metadata": {},
     "output_type": "execute_result"
    }
   ],
   "source": [
    "store_ticker"
   ]
  },
  {
   "cell_type": "code",
   "execution_count": null,
   "metadata": {},
   "outputs": [],
   "source": []
  }
 ],
 "metadata": {
  "kernelspec": {
   "display_name": "Python 2",
   "language": "python",
   "name": "python2"
  },
  "language_info": {
   "codemirror_mode": {
    "name": "ipython",
    "version": 2
   },
   "file_extension": ".py",
   "mimetype": "text/x-python",
   "name": "python",
   "nbconvert_exporter": "python",
   "pygments_lexer": "ipython2",
   "version": "2.7.16"
  }
 },
 "nbformat": 4,
 "nbformat_minor": 4
}
